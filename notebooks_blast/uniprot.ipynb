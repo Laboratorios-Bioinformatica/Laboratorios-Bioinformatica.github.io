{
 "cells": [
  {
   "cell_type": "code",
   "execution_count": 2,
   "id": "42d8d52d-b741-46b9-a163-791a4e8e45c9",
   "metadata": {},
   "outputs": [
    {
     "name": "stdout",
     "output_type": "stream",
     "text": [
      "Título: Staphylococcus aureus subsp. aureus NCTC 8325, complete genome\n",
      "ID GenBank (e outros IDs): ['CP000253']\n",
      "Taxonomia: ['Bacteria', 'Firmicutes', 'Bacilli', 'Bacillales', 'Staphylococcaceae', 'Staphylococcus']\n",
      "Tipo de molécula: DNA\n",
      "Topologia: circular\n",
      "Referências externas: ['BioProject:PRJNA237', 'BioSample:SAMN02604235']\n",
      "\n"
     ]
    }
   ],
   "source": [
    "from Bio import Entrez\n",
    "from Bio import SeqIO\n",
    "\n",
    "genes_int = [\"mprF\",\"ileS\"]\n",
    "local = {}\n",
    "gene_seq = {}\n",
    "prot_id = {}\n",
    "prot = {}\n",
    "\n",
    "Entrez.email = \"pg45476@alunos.uminho.pt\"\n",
    "handle = Entrez.efetch(db=\"nucleotide\", rettype=\"gb\", retmode=\"text\", id=\"CP000253.1\")\n",
    "seq_record = SeqIO.read(handle, \"genbank\")\n",
    "\n",
    "################################\n",
    "print(\"Título:\",seq_record.description)\n",
    "print(\"ID GenBank (e outros IDs):\",seq_record.annotations[\"accessions\"])\n",
    "print(\"Taxonomia:\",seq_record.annotations[\"taxonomy\"])\n",
    "print(\"Tipo de molécula:\",seq_record.annotations[\"molecule_type\"])\n",
    "print(\"Topologia:\",seq_record.annotations[\"topology\"])\n",
    "print(\"Referências externas:\",seq_record.dbxrefs)\n",
    "print()\n",
    "################################\n",
    "\n",
    "for s in seq_record.features:\n",
    "    if s.type == \"CDS\":\n",
    "        qual = dict(s.qualifiers)\n",
    "        \n",
    "        if \"gene\" in qual:\n",
    "            if qual[\"gene\"][0] in genes_int:\n",
    "                loc = s.location\n",
    "                #########################\n",
    "                print(\"Gene:\",qual[\"gene\"][0])\n",
    "                print(\"Produto:\", qual[\"product\"])\n",
    "                #print(\"Início:\", int(loc.start))\n",
    "                #print(\"Fim:\", int(loc.end))\n",
    "                #print(\"Cadeia:\", int(loc.strand))\n",
    "                #print(\"ID Proteína:\", qual[\"protein_id\"])\n",
    "                print()\n",
    "                #########################\n",
    "                local[qual[\"gene\"][0]] = (int(loc.start), int(loc.end), loc.strand)\n",
    "                gene_seq[qual[\"gene\"][0]] = s.extract(seq_record.seq)\n",
    "                prot_id[qual[\"gene\"][0]] = qual[\"protein_id\"]\n",
    "                prot[qual[\"gene\"][0]] = qual[\"translation\"]\n",
    "\n",
    "handle.close()\n",
    "\n"
   ]
  },
  {
   "cell_type": "code",
   "execution_count": 3,
   "id": "e093bf6a-90e2-4482-b0b6-f98f69f4d775",
   "metadata": {},
   "outputs": [
    {
     "name": "stdout",
     "output_type": "stream",
     "text": [
      "Nome: SYI1_STAAU \n",
      "\n",
      "ID UniProt: P41972\n",
      "\n",
      "RecName: Full=Isoleucine--tRNA ligase\n",
      " EC=6.1.1.5\n",
      " AltName: Full=Isoleucyl-tRNA synthetase\n",
      " Short=IleRS\n",
      "\n",
      "Organismo: 'Staphylococcus aureus.' \n",
      "\n",
      "Classificao do organismo: ['Bacteria', 'Firmicutes', 'Bacilli', 'Bacillales', 'Staphylococcaceae', 'Staphylococcus'] \n",
      "\n",
      "MDYKETLLMPKTDFPMRGGL... \n",
      "\n",
      "Tamanho da seq: 917 \n",
      "\n",
      "Palavras Chave: ['3D-structure', 'Aminoacyl-tRNA synthetase', 'ATP-binding', 'Cytoplasm', 'Direct protein sequencing', 'Ligase', 'Metal-binding', 'Nucleotide-binding', 'Protein biosynthesis', 'Zinc'] \n",
      "\n"
     ]
    }
   ],
   "source": [
    "from Bio import ExPASy\n",
    "import Bio.SwissProt as sp\n",
    "\n",
    "with open(\"prot_ileS.txt\") as handle:\n",
    "    record = sp.read(handle)\n",
    "    print(\"Nome:\", record.entry_name,\"\\n\")\n",
    "    for acc in record.accessions:\n",
    "        print(\"ID UniProt:\", acc)\n",
    "    print()\n",
    "    for des in record.description.split(\";\"):\n",
    "        print(des)\n",
    "    print(\"Organismo:\",repr(record.organism),\"\\n\")\n",
    "    print(\"Classificao do organismo:\",record.organism_classification,\"\\n\")\n",
    "    print(record.sequence[:20] + \"...\",\"\\n\")\n",
    "    print(\"Tamanho da seq:\", record.sequence_length,\"\\n\")\n",
    "    print(\"Palavras Chave:\",record.keywords,\"\\n\")\n",
    "    \n",
    "    #############################\n",
    "    #rec = sp.KeyWList(handle)\n",
    "    #print(\"Termos GO:\",rec)\n",
    "    #############################\n",
    "    \n",
    "counter = 1\n",
    "for r in record.features:\n",
    "    if r.type == \"ACT_SITE\":\n",
    "        print(f\"Sítio ativo {counter}:\",r.location)\n",
    "        counter += 1\n",
    "    "
   ]
  },
  {
   "cell_type": "code",
   "execution_count": 4,
   "id": "7257331b-269b-4f28-a71c-35f34c22ff6a",
   "metadata": {},
   "outputs": [
    {
     "name": "stdout",
     "output_type": "stream",
     "text": [
      "Gene: mprF\n"
     ]
    },
    {
     "ename": "KeyError",
     "evalue": "'mprF'",
     "output_type": "error",
     "traceback": [
      "\u001b[0;31m---------------------------------------------------------------------------\u001b[0m",
      "\u001b[0;31mKeyError\u001b[0m                                  Traceback (most recent call last)",
      "\u001b[0;32m/tmp/ipykernel_5158/480173359.py\u001b[0m in \u001b[0;36m<module>\u001b[0;34m\u001b[0m\n\u001b[1;32m     11\u001b[0m     \u001b[0;31m####################\u001b[0m\u001b[0;34m\u001b[0m\u001b[0;34m\u001b[0m\u001b[0;34m\u001b[0m\u001b[0m\n\u001b[1;32m     12\u001b[0m     \u001b[0mprint\u001b[0m\u001b[0;34m(\u001b[0m\u001b[0;34m\"Gene:\"\u001b[0m\u001b[0;34m,\u001b[0m\u001b[0mg\u001b[0m\u001b[0;34m)\u001b[0m\u001b[0;34m\u001b[0m\u001b[0;34m\u001b[0m\u001b[0m\n\u001b[0;32m---> 13\u001b[0;31m     \u001b[0mprint\u001b[0m\u001b[0;34m(\u001b[0m\u001b[0;34m\"Início:\"\u001b[0m\u001b[0;34m,\u001b[0m\u001b[0mlocal\u001b[0m\u001b[0;34m[\u001b[0m\u001b[0mg\u001b[0m\u001b[0;34m]\u001b[0m\u001b[0;34m[\u001b[0m\u001b[0;36m0\u001b[0m\u001b[0;34m]\u001b[0m\u001b[0;34m)\u001b[0m\u001b[0;34m\u001b[0m\u001b[0;34m\u001b[0m\u001b[0m\n\u001b[0m\u001b[1;32m     14\u001b[0m     \u001b[0mprint\u001b[0m\u001b[0;34m(\u001b[0m\u001b[0;34m\"Fim:\"\u001b[0m\u001b[0;34m,\u001b[0m\u001b[0mlocal\u001b[0m\u001b[0;34m[\u001b[0m\u001b[0mg\u001b[0m\u001b[0;34m]\u001b[0m\u001b[0;34m[\u001b[0m\u001b[0;36m1\u001b[0m\u001b[0;34m]\u001b[0m\u001b[0;34m)\u001b[0m\u001b[0;34m\u001b[0m\u001b[0;34m\u001b[0m\u001b[0m\n\u001b[1;32m     15\u001b[0m     \u001b[0mprint\u001b[0m\u001b[0;34m(\u001b[0m\u001b[0;34m\"Cadeia:\"\u001b[0m\u001b[0;34m,\u001b[0m\u001b[0mlocal\u001b[0m\u001b[0;34m[\u001b[0m\u001b[0mg\u001b[0m\u001b[0;34m]\u001b[0m\u001b[0;34m[\u001b[0m\u001b[0;36m2\u001b[0m\u001b[0;34m]\u001b[0m\u001b[0;34m)\u001b[0m\u001b[0;34m\u001b[0m\u001b[0;34m\u001b[0m\u001b[0m\n",
      "\u001b[0;31mKeyError\u001b[0m: 'mprF'"
     ]
    }
   ],
   "source": [
    "\n",
    "from Bio import SeqIO\n",
    "\n",
    "genes_int = [\"mprF\", \"ileS\"]\n",
    "#local\n",
    "#gene_seq\n",
    "#prot_id\n",
    "#prot\n",
    "\n",
    "\n",
    "for g in genes_int:\n",
    "    ####################\n",
    "    print(\"Gene:\",g)\n",
    "    print(\"Início:\",local[g][0])\n",
    "    print(\"Fim:\",local[g][1])\n",
    "    print(\"Cadeia:\",local[g][2])\n",
    "    print(\"Sequência DNA:\",gene_seq[g][0:75]+\"...\")\n",
    "    print(\"ID Proteína:\",prot_id[g][0])\n",
    "    print(\"Sequência Proteica:\",prot[g][0][0:75]+\"...\")\n",
    "    print(\"----------\")\n",
    "    ####################\n",
    "    inicio, fim, strand = local[g]\n",
    "    annot = \";\".join([g,str(inicio),str(fim),str(strand),prot_id[g][0]])\n",
    "    \n",
    "    file = open(g+\".fasta\",\"w\")\n",
    "    file.write(\">\"+annot+\"\\n\"+str(gene_seq[g]))\n",
    "    file.close()\n",
    "    \n",
    "    file = open(g+\"_\"+prot_id[g][0]+\".fasta\",\"w\")\n",
    "    file.write(\">\"+annot+\"\\n\"+prot[g][0])\n",
    "    file.close()\n"
   ]
  },
  {
   "cell_type": "code",
   "execution_count": null,
   "id": "fd277861-7a66-49f3-a19c-d6999083a1ef",
   "metadata": {},
   "outputs": [],
   "source": []
  }
 ],
 "metadata": {
  "kernelspec": {
   "display_name": "Python 3 (ipykernel)",
   "language": "python",
   "name": "python3"
  },
  "language_info": {
   "codemirror_mode": {
    "name": "ipython",
    "version": 3
   },
   "file_extension": ".py",
   "mimetype": "text/x-python",
   "name": "python",
   "nbconvert_exporter": "python",
   "pygments_lexer": "ipython3",
   "version": "3.8.10"
  }
 },
 "nbformat": 4,
 "nbformat_minor": 5
}
